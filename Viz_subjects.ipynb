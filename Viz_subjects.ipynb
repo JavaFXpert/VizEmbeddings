{
  "cells": [
    {
      "cell_type": "markdown",
      "metadata": {
        "id": "view-in-github",
        "colab_type": "text"
      },
      "source": [
        "<a href=\"https://colab.research.google.com/github/JavaFXpert/VizEmbeddings/blob/main/Viz_subjects.ipynb\" target=\"_parent\"><img src=\"https://colab.research.google.com/assets/colab-badge.svg\" alt=\"Open In Colab\"/></a>"
      ]
    },
    {
      "cell_type": "markdown",
      "metadata": {
        "id": "Xp3tclqOiBWm"
      },
      "source": [
        "## 1. Load the dataset\n",
        "\n",
        "The dataset used in this example is [fine-food reviews](https://www.kaggle.com/snap/amazon-fine-food-reviews) from Amazon. The dataset contains a total of 568,454 food reviews Amazon users left up to October 2012. We will use a subset of this dataset, consisting of 1,000 most recent reviews for illustration purposes. The reviews are in English and tend to be positive or negative. Each review has a ProductId, UserId, Score, review title (Summary) and review body (Text).\n",
        "\n",
        "We will combine the review summary and review text into a single combined text. The model will encode this combined text and it will output a single vector embedding."
      ]
    },
    {
      "cell_type": "markdown",
      "metadata": {
        "id": "XPgVsOlwiBWn"
      },
      "source": [
        "To run this notebook, you will need to install: pandas, openai, transformers, plotly, matplotlib, scikit-learn, torch (transformer dep), torchvision, and scipy."
      ]
    },
    {
      "cell_type": "code",
      "source": [
        "!pip install tiktoken\n",
        "!pip install openai"
      ],
      "metadata": {
        "colab": {
          "base_uri": "https://localhost:8080/"
        },
        "id": "SWZjN6I-0w7b",
        "outputId": "0b05cd1f-3c11-4e09-dc46-51bf2c697c7d"
      },
      "execution_count": 1,
      "outputs": [
        {
          "output_type": "stream",
          "name": "stdout",
          "text": [
            "Looking in indexes: https://pypi.org/simple, https://us-python.pkg.dev/colab-wheels/public/simple/\n",
            "Collecting tiktoken\n",
            "  Downloading tiktoken-0.1.2-cp38-cp38-manylinux_2_17_x86_64.manylinux2014_x86_64.whl (1.6 MB)\n",
            "\u001b[2K     \u001b[90m━━━━━━━━━━━━━━━━━━━━━━━━━━━━━━━━━━━━━━━━\u001b[0m \u001b[32m1.6/1.6 MB\u001b[0m \u001b[31m16.8 MB/s\u001b[0m eta \u001b[36m0:00:00\u001b[0m\n",
            "\u001b[?25hCollecting blobfile>=2\n",
            "  Downloading blobfile-2.0.1-py3-none-any.whl (73 kB)\n",
            "\u001b[2K     \u001b[90m━━━━━━━━━━━━━━━━━━━━━━━━━━━━━━━━━━━━━━━━\u001b[0m \u001b[32m73.5/73.5 KB\u001b[0m \u001b[31m5.8 MB/s\u001b[0m eta \u001b[36m0:00:00\u001b[0m\n",
            "\u001b[?25hCollecting requests>=2.26.0\n",
            "  Downloading requests-2.28.2-py3-none-any.whl (62 kB)\n",
            "\u001b[2K     \u001b[90m━━━━━━━━━━━━━━━━━━━━━━━━━━━━━━━━━━━━━━━━\u001b[0m \u001b[32m62.8/62.8 KB\u001b[0m \u001b[31m2.7 MB/s\u001b[0m eta \u001b[36m0:00:00\u001b[0m\n",
            "\u001b[?25hRequirement already satisfied: regex>=2022.1.18 in /usr/local/lib/python3.8/dist-packages (from tiktoken) (2022.6.2)\n",
            "Collecting pycryptodomex~=3.8\n",
            "  Downloading pycryptodomex-3.17-cp35-abi3-manylinux_2_17_x86_64.manylinux2014_x86_64.whl (2.1 MB)\n",
            "\u001b[2K     \u001b[90m━━━━━━━━━━━━━━━━━━━━━━━━━━━━━━━━━━━━━━━━\u001b[0m \u001b[32m2.1/2.1 MB\u001b[0m \u001b[31m35.2 MB/s\u001b[0m eta \u001b[36m0:00:00\u001b[0m\n",
            "\u001b[?25hCollecting urllib3<3,>=1.25.3\n",
            "  Downloading urllib3-1.26.14-py2.py3-none-any.whl (140 kB)\n",
            "\u001b[2K     \u001b[90m━━━━━━━━━━━━━━━━━━━━━━━━━━━━━━━━━━━━━━━\u001b[0m \u001b[32m140.6/140.6 KB\u001b[0m \u001b[31m9.1 MB/s\u001b[0m eta \u001b[36m0:00:00\u001b[0m\n",
            "\u001b[?25hRequirement already satisfied: filelock~=3.0 in /usr/local/lib/python3.8/dist-packages (from blobfile>=2->tiktoken) (3.9.0)\n",
            "Requirement already satisfied: lxml~=4.9 in /usr/local/lib/python3.8/dist-packages (from blobfile>=2->tiktoken) (4.9.2)\n",
            "Requirement already satisfied: certifi>=2017.4.17 in /usr/local/lib/python3.8/dist-packages (from requests>=2.26.0->tiktoken) (2022.12.7)\n",
            "Requirement already satisfied: idna<4,>=2.5 in /usr/local/lib/python3.8/dist-packages (from requests>=2.26.0->tiktoken) (2.10)\n",
            "Requirement already satisfied: charset-normalizer<4,>=2 in /usr/local/lib/python3.8/dist-packages (from requests>=2.26.0->tiktoken) (2.1.1)\n",
            "Installing collected packages: urllib3, pycryptodomex, requests, blobfile, tiktoken\n",
            "  Attempting uninstall: urllib3\n",
            "    Found existing installation: urllib3 1.24.3\n",
            "    Uninstalling urllib3-1.24.3:\n",
            "      Successfully uninstalled urllib3-1.24.3\n",
            "  Attempting uninstall: requests\n",
            "    Found existing installation: requests 2.25.1\n",
            "    Uninstalling requests-2.25.1:\n",
            "      Successfully uninstalled requests-2.25.1\n",
            "Successfully installed blobfile-2.0.1 pycryptodomex-3.17 requests-2.28.2 tiktoken-0.1.2 urllib3-1.26.14\n",
            "Looking in indexes: https://pypi.org/simple, https://us-python.pkg.dev/colab-wheels/public/simple/\n",
            "Collecting openai\n",
            "  Downloading openai-0.26.4.tar.gz (55 kB)\n",
            "\u001b[2K     \u001b[90m━━━━━━━━━━━━━━━━━━━━━━━━━━━━━━━━━━━━━━━━\u001b[0m \u001b[32m55.6/55.6 KB\u001b[0m \u001b[31m1.7 MB/s\u001b[0m eta \u001b[36m0:00:00\u001b[0m\n",
            "\u001b[?25h  Installing build dependencies ... \u001b[?25l\u001b[?25hdone\n",
            "  Getting requirements to build wheel ... \u001b[?25l\u001b[?25hdone\n",
            "  Installing backend dependencies ... \u001b[?25l\u001b[?25hdone\n",
            "  Preparing metadata (pyproject.toml) ... \u001b[?25l\u001b[?25hdone\n",
            "Requirement already satisfied: requests>=2.20 in /usr/local/lib/python3.8/dist-packages (from openai) (2.28.2)\n",
            "Requirement already satisfied: tqdm in /usr/local/lib/python3.8/dist-packages (from openai) (4.64.1)\n",
            "Requirement already satisfied: aiohttp in /usr/local/lib/python3.8/dist-packages (from openai) (3.8.3)\n",
            "Requirement already satisfied: idna<4,>=2.5 in /usr/local/lib/python3.8/dist-packages (from requests>=2.20->openai) (2.10)\n",
            "Requirement already satisfied: charset-normalizer<4,>=2 in /usr/local/lib/python3.8/dist-packages (from requests>=2.20->openai) (2.1.1)\n",
            "Requirement already satisfied: urllib3<1.27,>=1.21.1 in /usr/local/lib/python3.8/dist-packages (from requests>=2.20->openai) (1.26.14)\n",
            "Requirement already satisfied: certifi>=2017.4.17 in /usr/local/lib/python3.8/dist-packages (from requests>=2.20->openai) (2022.12.7)\n",
            "Requirement already satisfied: async-timeout<5.0,>=4.0.0a3 in /usr/local/lib/python3.8/dist-packages (from aiohttp->openai) (4.0.2)\n",
            "Requirement already satisfied: yarl<2.0,>=1.0 in /usr/local/lib/python3.8/dist-packages (from aiohttp->openai) (1.8.2)\n",
            "Requirement already satisfied: attrs>=17.3.0 in /usr/local/lib/python3.8/dist-packages (from aiohttp->openai) (22.2.0)\n",
            "Requirement already satisfied: aiosignal>=1.1.2 in /usr/local/lib/python3.8/dist-packages (from aiohttp->openai) (1.3.1)\n",
            "Requirement already satisfied: frozenlist>=1.1.1 in /usr/local/lib/python3.8/dist-packages (from aiohttp->openai) (1.3.3)\n",
            "Requirement already satisfied: multidict<7.0,>=4.5 in /usr/local/lib/python3.8/dist-packages (from aiohttp->openai) (6.0.4)\n",
            "Building wheels for collected packages: openai\n",
            "  Building wheel for openai (pyproject.toml) ... \u001b[?25l\u001b[?25hdone\n",
            "  Created wheel for openai: filename=openai-0.26.4-py3-none-any.whl size=67744 sha256=02adee6ca98667c7470088d448e584f3822db377fac7fc4b6126a6ef921b15e0\n",
            "  Stored in directory: /root/.cache/pip/wheels/2b/d8/4e/268f029bd3277c1dd9e8781a0e0296e0a63822665bfa2429fc\n",
            "Successfully built openai\n",
            "Installing collected packages: openai\n",
            "Successfully installed openai-0.26.4\n"
          ]
        }
      ]
    },
    {
      "cell_type": "code",
      "execution_count": 12,
      "metadata": {
        "id": "YYQK3nwOiBWo"
      },
      "outputs": [],
      "source": [
        "# imports\n",
        "import pandas as pd\n",
        "import tiktoken\n",
        "import openai\n",
        "\n",
        "from openai.embeddings_utils import get_embedding\n"
      ]
    },
    {
      "cell_type": "code",
      "execution_count": 13,
      "metadata": {
        "id": "VxXa0txAiBWo"
      },
      "outputs": [],
      "source": [
        "# embedding model parameters\n",
        "embedding_model = \"text-embedding-ada-002\"\n",
        "embedding_encoding = \"cl100k_base\"  # this the encoding for text-embedding-ada-002\n",
        "max_tokens = 8000  # the maximum for text-embedding-ada-002 is 8191\n"
      ]
    },
    {
      "cell_type": "code",
      "execution_count": 64,
      "metadata": {
        "id": "nBQyFGdGiBWo",
        "outputId": "4949ec0e-acd2-46d1-801e-a58ffcf3cf57",
        "colab": {
          "base_uri": "https://localhost:8080/",
          "height": 677
        }
      },
      "outputs": [
        {
          "output_type": "execute_result",
          "data": {
            "text/plain": [
              "                   Colors  Index\n",
              "0        Natural Sciences      0\n",
              "1                 Physics      1\n",
              "2               Chemistry      1\n",
              "3                 Biology      1\n",
              "4          Earth Sciences      1\n",
              "5               Astronomy      1\n",
              "6   Environmental Science      1\n",
              "7         Social Sciences      0\n",
              "8               Sociology      1\n",
              "9              Psychology      1\n",
              "10      Political Science      1\n",
              "11              Economics      1\n",
              "12           Anthropology      1\n",
              "13              Geography      1\n",
              "14             Humanities      0\n",
              "15                History      2\n",
              "16             Literature      2\n",
              "17             Philosophy      2\n",
              "18               Religion      2\n",
              "19                    Art      2"
            ],
            "text/html": [
              "\n",
              "  <div id=\"df-755ad1c3-276f-4585-b965-772dde0a283a\">\n",
              "    <div class=\"colab-df-container\">\n",
              "      <div>\n",
              "<style scoped>\n",
              "    .dataframe tbody tr th:only-of-type {\n",
              "        vertical-align: middle;\n",
              "    }\n",
              "\n",
              "    .dataframe tbody tr th {\n",
              "        vertical-align: top;\n",
              "    }\n",
              "\n",
              "    .dataframe thead th {\n",
              "        text-align: right;\n",
              "    }\n",
              "</style>\n",
              "<table border=\"1\" class=\"dataframe\">\n",
              "  <thead>\n",
              "    <tr style=\"text-align: right;\">\n",
              "      <th></th>\n",
              "      <th>Colors</th>\n",
              "      <th>Index</th>\n",
              "    </tr>\n",
              "  </thead>\n",
              "  <tbody>\n",
              "    <tr>\n",
              "      <th>0</th>\n",
              "      <td>Natural Sciences</td>\n",
              "      <td>0</td>\n",
              "    </tr>\n",
              "    <tr>\n",
              "      <th>1</th>\n",
              "      <td>Physics</td>\n",
              "      <td>1</td>\n",
              "    </tr>\n",
              "    <tr>\n",
              "      <th>2</th>\n",
              "      <td>Chemistry</td>\n",
              "      <td>1</td>\n",
              "    </tr>\n",
              "    <tr>\n",
              "      <th>3</th>\n",
              "      <td>Biology</td>\n",
              "      <td>1</td>\n",
              "    </tr>\n",
              "    <tr>\n",
              "      <th>4</th>\n",
              "      <td>Earth Sciences</td>\n",
              "      <td>1</td>\n",
              "    </tr>\n",
              "    <tr>\n",
              "      <th>5</th>\n",
              "      <td>Astronomy</td>\n",
              "      <td>1</td>\n",
              "    </tr>\n",
              "    <tr>\n",
              "      <th>6</th>\n",
              "      <td>Environmental Science</td>\n",
              "      <td>1</td>\n",
              "    </tr>\n",
              "    <tr>\n",
              "      <th>7</th>\n",
              "      <td>Social Sciences</td>\n",
              "      <td>0</td>\n",
              "    </tr>\n",
              "    <tr>\n",
              "      <th>8</th>\n",
              "      <td>Sociology</td>\n",
              "      <td>1</td>\n",
              "    </tr>\n",
              "    <tr>\n",
              "      <th>9</th>\n",
              "      <td>Psychology</td>\n",
              "      <td>1</td>\n",
              "    </tr>\n",
              "    <tr>\n",
              "      <th>10</th>\n",
              "      <td>Political Science</td>\n",
              "      <td>1</td>\n",
              "    </tr>\n",
              "    <tr>\n",
              "      <th>11</th>\n",
              "      <td>Economics</td>\n",
              "      <td>1</td>\n",
              "    </tr>\n",
              "    <tr>\n",
              "      <th>12</th>\n",
              "      <td>Anthropology</td>\n",
              "      <td>1</td>\n",
              "    </tr>\n",
              "    <tr>\n",
              "      <th>13</th>\n",
              "      <td>Geography</td>\n",
              "      <td>1</td>\n",
              "    </tr>\n",
              "    <tr>\n",
              "      <th>14</th>\n",
              "      <td>Humanities</td>\n",
              "      <td>0</td>\n",
              "    </tr>\n",
              "    <tr>\n",
              "      <th>15</th>\n",
              "      <td>History</td>\n",
              "      <td>2</td>\n",
              "    </tr>\n",
              "    <tr>\n",
              "      <th>16</th>\n",
              "      <td>Literature</td>\n",
              "      <td>2</td>\n",
              "    </tr>\n",
              "    <tr>\n",
              "      <th>17</th>\n",
              "      <td>Philosophy</td>\n",
              "      <td>2</td>\n",
              "    </tr>\n",
              "    <tr>\n",
              "      <th>18</th>\n",
              "      <td>Religion</td>\n",
              "      <td>2</td>\n",
              "    </tr>\n",
              "    <tr>\n",
              "      <th>19</th>\n",
              "      <td>Art</td>\n",
              "      <td>2</td>\n",
              "    </tr>\n",
              "  </tbody>\n",
              "</table>\n",
              "</div>\n",
              "      <button class=\"colab-df-convert\" onclick=\"convertToInteractive('df-755ad1c3-276f-4585-b965-772dde0a283a')\"\n",
              "              title=\"Convert this dataframe to an interactive table.\"\n",
              "              style=\"display:none;\">\n",
              "        \n",
              "  <svg xmlns=\"http://www.w3.org/2000/svg\" height=\"24px\"viewBox=\"0 0 24 24\"\n",
              "       width=\"24px\">\n",
              "    <path d=\"M0 0h24v24H0V0z\" fill=\"none\"/>\n",
              "    <path d=\"M18.56 5.44l.94 2.06.94-2.06 2.06-.94-2.06-.94-.94-2.06-.94 2.06-2.06.94zm-11 1L8.5 8.5l.94-2.06 2.06-.94-2.06-.94L8.5 2.5l-.94 2.06-2.06.94zm10 10l.94 2.06.94-2.06 2.06-.94-2.06-.94-.94-2.06-.94 2.06-2.06.94z\"/><path d=\"M17.41 7.96l-1.37-1.37c-.4-.4-.92-.59-1.43-.59-.52 0-1.04.2-1.43.59L10.3 9.45l-7.72 7.72c-.78.78-.78 2.05 0 2.83L4 21.41c.39.39.9.59 1.41.59.51 0 1.02-.2 1.41-.59l7.78-7.78 2.81-2.81c.8-.78.8-2.07 0-2.86zM5.41 20L4 18.59l7.72-7.72 1.47 1.35L5.41 20z\"/>\n",
              "  </svg>\n",
              "      </button>\n",
              "      \n",
              "  <style>\n",
              "    .colab-df-container {\n",
              "      display:flex;\n",
              "      flex-wrap:wrap;\n",
              "      gap: 12px;\n",
              "    }\n",
              "\n",
              "    .colab-df-convert {\n",
              "      background-color: #E8F0FE;\n",
              "      border: none;\n",
              "      border-radius: 50%;\n",
              "      cursor: pointer;\n",
              "      display: none;\n",
              "      fill: #1967D2;\n",
              "      height: 32px;\n",
              "      padding: 0 0 0 0;\n",
              "      width: 32px;\n",
              "    }\n",
              "\n",
              "    .colab-df-convert:hover {\n",
              "      background-color: #E2EBFA;\n",
              "      box-shadow: 0px 1px 2px rgba(60, 64, 67, 0.3), 0px 1px 3px 1px rgba(60, 64, 67, 0.15);\n",
              "      fill: #174EA6;\n",
              "    }\n",
              "\n",
              "    [theme=dark] .colab-df-convert {\n",
              "      background-color: #3B4455;\n",
              "      fill: #D2E3FC;\n",
              "    }\n",
              "\n",
              "    [theme=dark] .colab-df-convert:hover {\n",
              "      background-color: #434B5C;\n",
              "      box-shadow: 0px 1px 3px 1px rgba(0, 0, 0, 0.15);\n",
              "      filter: drop-shadow(0px 1px 2px rgba(0, 0, 0, 0.3));\n",
              "      fill: #FFFFFF;\n",
              "    }\n",
              "  </style>\n",
              "\n",
              "      <script>\n",
              "        const buttonEl =\n",
              "          document.querySelector('#df-755ad1c3-276f-4585-b965-772dde0a283a button.colab-df-convert');\n",
              "        buttonEl.style.display =\n",
              "          google.colab.kernel.accessAllowed ? 'block' : 'none';\n",
              "\n",
              "        async function convertToInteractive(key) {\n",
              "          const element = document.querySelector('#df-755ad1c3-276f-4585-b965-772dde0a283a');\n",
              "          const dataTable =\n",
              "            await google.colab.kernel.invokeFunction('convertToInteractive',\n",
              "                                                     [key], {});\n",
              "          if (!dataTable) return;\n",
              "\n",
              "          const docLinkHtml = 'Like what you see? Visit the ' +\n",
              "            '<a target=\"_blank\" href=https://colab.research.google.com/notebooks/data_table.ipynb>data table notebook</a>'\n",
              "            + ' to learn more about interactive tables.';\n",
              "          element.innerHTML = '';\n",
              "          dataTable['output_type'] = 'display_data';\n",
              "          await google.colab.output.renderOutput(dataTable, element);\n",
              "          const docLink = document.createElement('div');\n",
              "          docLink.innerHTML = docLinkHtml;\n",
              "          element.appendChild(docLink);\n",
              "        }\n",
              "      </script>\n",
              "    </div>\n",
              "  </div>\n",
              "  "
            ]
          },
          "metadata": {},
          "execution_count": 64
        }
      ],
      "source": [
        "# load & inspect dataset\n",
        "\n",
        "colors = [\n",
        "[\"Natural Sciences\", 0],\n",
        "[\"Physics\", 1],\n",
        "[\"Chemistry\", 1],\n",
        "[\"Biology\", 1],\n",
        "[\"Earth Sciences\", 1],\n",
        "[\"Astronomy\", 1],\n",
        "[\"Environmental Science\", 1],\n",
        "[\"Social Sciences\", 0],\n",
        "[\"Sociology\", 1],\n",
        "[\"Psychology\", 1],\n",
        "[\"Political Science\", 1],\n",
        "[\"Economics\", 1],\n",
        "[\"Anthropology\", 1],\n",
        "[\"Geography\", 1],\n",
        "[\"Humanities\", 0],\n",
        "[\"History\", 2],\n",
        "[\"Literature\", 2],\n",
        "[\"Philosophy\", 2],\n",
        "[\"Religion\", 2],\n",
        "[\"Art\", 2],\n",
        "[\"Music\", 2],\n",
        "[\"Theatre\", 2],\n",
        "[\"Applied Sciences\", 0],\n",
        "[\"Engineering\", 3],\n",
        "[\"Technology\", 3],\n",
        "[\"Medicine\", 3],\n",
        "[\"Agriculture\", 3],\n",
        "[\"Architecture\", 3],\n",
        "[\"Environmental Management\", 3],\n",
        "[\"Mathematics\", 0],\n",
        "[\"Pure Mathematics\", 4],\n",
        "[\"Applied Mathematics\", 4],\n",
        "[\"Statistics\", 4],\n",
        "[\"Mathematical modeling\", 4],\n",
        "[\"Business and Finance\", 0],\n",
        "[\"Accounting\", 5],\n",
        "[\"Marketing\", 5],\n",
        "[\"Management\", 5],\n",
        "[\"Economics\", 5],\n",
        "[\"Banking and Finance\", 5],\n",
        "[\"International Business\", 5],\n",
        "[\"Law and Politics\", 0],\n",
        "[\"International Law\", 6],\n",
        "[\"Criminal Law\", 6],\n",
        "[\"Political Science\", 6],\n",
        "[\"Government and Public Administration\", 6],\n",
        "[\"Political Philosophy\", 6],\n",
        "[\"Languages and Communication\", 0],\n",
        "[\"Linguistics\", 7],\n",
        "[\"Literature\", 7],\n",
        "[\"Communication Studies\", 7],\n",
        "[\"Media Studies\", 7],\n",
        "[\"Translation and Interpretation\", 7],\n",
        "[\"Physical Sciences\", 0],\n",
        "[\"Mechanics\", 8],\n",
        "[\"Thermodynamics\", 8],\n",
        "[\"Electromagnetism\", 8],\n",
        "[\"Quantum Mechanics\", 8],\n",
        "[\"Life Sciences\", 0],\n",
        "[\"Botany\", 9],\n",
        "[\"Zoology\", 9],\n",
        "[\"Ecology\", 9],\n",
        "[\"Evolutionary Biology\", 9],\n",
        "[\"Genetics\", 9],\n",
        "[\"Biochemistry\", 9],\n",
        "[\"Environmental Sciences\", 0],\n",
        "[\"Meteorology\", 10],\n",
        "[\"Hydrology\", 10],\n",
        "[\"Oceanography\", 10],\n",
        "[\"Geology\", 10],\n",
        "[\"Soil Science\", 10],\n",
        "[\"Climatology\", 10],\n",
        "[\"Information Sciences and Technology\", 0],\n",
        "[\"Computer Science\", 11],\n",
        "[\"Information Systems\", 11],\n",
        "[\"Library Science\", 11],\n",
        "[\"Telecommunication\", 11],\n",
        "[\"Artificial Intelligence\", 11],\n",
        "[\"Education\", 0],\n",
        "[\"Pedagogy\", 12],\n",
        "[\"Curriculum Development\", 12],\n",
        "[\"Instructional Design\", 12],\n",
        "[\"Special Education\", 12],\n",
        "[\"Teacher Education\", 12],\n",
        "[\"Cultural Studies\", 0],\n",
        "[\"Cultural Anthropology\", 13],\n",
        "[\"Ethnology\", 13],\n",
        "[\"Folklore Studies\", 13],\n",
        "[\"Art History\", 13],\n",
        "[\"Archaeology\", 13],\n",
        "[\"Health Sciences\", 0],\n",
        "[\"Nursing\", 14],\n",
        "[\"Medicine\", 14],\n",
        "[\"Public Health\", 14],\n",
        "[\"Nutrition\", 14],\n",
        "[\"Environmental Health\", 14],\n",
        "[\"Political Sciences\", 0],\n",
        "[\"Public Administration\", 15],\n",
        "[\"Political Theory\", 15],\n",
        "[\"Comparative Politics\", 15],\n",
        "[\"International Relations\", 15],\n",
        "[\"Political Economy\", 15],\n",
        "[\"Psychology\", 0],\n",
        "[\"Social Psychology\", 16],\n",
        "[\"Cognitive Psychology\", 16],\n",
        "[\"Developmental Psychology\", 16],\n",
        "[\"Abnormal Psychology\", 16],\n",
        "[\"Neuropsychology\", 16],\n",
        "[\"Economics\", 0],\n",
        "[\"Microeconomics\", 17],\n",
        "[\"Macroeconomics\", 17],\n",
        "[\"Econometrics\", 17],\n",
        "[\"International Economics\", 17],\n",
        "[\"Agricultural Economics\", 17],\n",
        "[\"Philosophy\", 0],\n",
        "[\"Metaphysics\", 18],\n",
        "[\"Epistemology\", 18],\n",
        "[\"Logic\", 18],\n",
        "[\"Ethics\", 18],\n",
        "[\"Political Philosophy\", 18],\n",
        "[\"Spiritual and Religious Studies\", 0],\n",
        "[\"Theology\", 19],\n",
        "[\"Comparative Religion\", 19],\n",
        "[\"World Religions\", 19],\n",
        "[\"Mythology\", 19],\n",
        "[\"Religious Ethics\", 19],\n",
        "]\n",
        "\n",
        "df = pd.DataFrame(colors, columns=['Colors', 'Index'])\n",
        "\n",
        "df.head(20)\n"
      ]
    },
    {
      "cell_type": "code",
      "execution_count": 65,
      "metadata": {
        "id": "4GaXuZgqiBWo"
      },
      "outputs": [],
      "source": [
        "# subsample to 1k most recent reviews and remove samples that are too long\n",
        "top_n = 1000\n",
        "encoding = tiktoken.get_encoding(embedding_encoding)\n",
        "len(df)\n",
        "\n",
        "df[\"colors\"] = (df.Colors)\n"
      ]
    },
    {
      "cell_type": "markdown",
      "metadata": {
        "id": "jDW1arubiBWo"
      },
      "source": [
        "## 2. Get embeddings and save them for future reuse"
      ]
    },
    {
      "cell_type": "code",
      "execution_count": 66,
      "metadata": {
        "id": "neP2nZJJiBWp"
      },
      "outputs": [],
      "source": [
        "# Ensure you have your API key set in your environment per the README: https://github.com/openai/openai-python#usage\n",
        "openai.api_key = 'sk-'\n",
        "\n",
        "# This may take a few minutes\n",
        "df[\"embedding\"] = df.colors.apply(lambda x: get_embedding(x, engine=embedding_model))\n",
        "df.to_csv(\"colors.csv\")\n"
      ]
    },
    {
      "cell_type": "code",
      "source": [],
      "metadata": {
        "id": "hH5nYMtbArNS"
      },
      "execution_count": null,
      "outputs": []
    },
    {
      "cell_type": "code",
      "source": [
        "from sklearn.manifold import TSNE\n",
        "import numpy as np\n",
        "\n",
        "# Load the embeddings\n",
        "datafile_path = \"colors.csv\"\n",
        "df = pd.read_csv(datafile_path)\n",
        "\n",
        "# Convert to a list of lists of floats\n",
        "matrix = np.array(df.embedding.apply(eval).to_list())\n",
        "\n",
        "# Create a t-SNE model and transform the data\n",
        "tsne = TSNE(n_components=2, perplexity=15, random_state=42, init='random', learning_rate=200)\n",
        "vis_dims = tsne.fit_transform(matrix)\n",
        "vis_dims.shape"
      ],
      "metadata": {
        "id": "0DThoCmJo5ZD",
        "outputId": "0f97e8f8-1539-4166-b652-0b028b976923",
        "colab": {
          "base_uri": "https://localhost:8080/"
        }
      },
      "execution_count": 67,
      "outputs": [
        {
          "output_type": "execute_result",
          "data": {
            "text/plain": [
              "(126, 2)"
            ]
          },
          "metadata": {},
          "execution_count": 67
        }
      ]
    },
    {
      "cell_type": "code",
      "source": [
        "import matplotlib.pyplot as plt\n",
        "import matplotlib\n",
        "\n",
        "colors = [\"red\", \"orange\", \"yellow\", \"green\", \"blue\", \"indigo\", \"violet\"]\n",
        "x = [x for x,y in vis_dims]\n",
        "print(\"x: \" + str(x))\n",
        "y = [y for x,y in vis_dims]\n",
        "print(\"y: \" + str(y))\n",
        "color_indices = df.Index.values - 1\n",
        "\n",
        "colormap = matplotlib.colors.ListedColormap(colors)\n",
        "plt.scatter(x, y, c=color_indices, cmap=colormap, alpha=0.0)\n",
        "for i in range(len(x)):\n",
        "    if df.Index[i] == 0:\n",
        "        plt.annotate(df.Colors[i][:10], (x[i], y[i]), xytext=(0, 2), \n",
        "                    textcoords='offset points', ha='center', fontsize=8)\n",
        "    else:\n",
        "        plt.annotate(df.Colors[i][:10], (x[i], y[i]), xytext=(0, 2), \n",
        "                    textcoords='offset points', ha='center', fontsize=6)\n",
        "\n",
        "\n",
        "# for index in [0, 1, 2, 3, 4, 5]:\n",
        "#     avg_x = np.array(x)[df.Index-1==index].mean()\n",
        "#     avg_y = np.array(y)[df.Index-1==index].mean()\n",
        "#     color = colors[index]\n",
        "#     plt.scatter(avg_x, avg_y, marker='x', color=color, s=100)\n",
        "#     print(\"avg_x:\", avg_x, \"avg_y:\", avg_y)\n",
        "#     if not pd.isna(avg_x) and not pd.isna(avg_y):\n",
        "#         plt.text(avg_x+0.5, avg_y+0.5, \"hi\", fontsize=12)\n",
        "#         plt.text(0.5, 0.5, \"lo\", fontsize=12)\n",
        "\n",
        "plt.title(\"Rainbow colors visualized in language using t-SNE\")"
      ],
      "metadata": {
        "id": "Xvv9GR-SpNKr",
        "outputId": "a6b4606d-acf0-477e-ecf2-7c90f69bf8c4",
        "colab": {
          "base_uri": "https://localhost:8080/",
          "height": 354
        }
      },
      "execution_count": 70,
      "outputs": [
        {
          "output_type": "stream",
          "name": "stdout",
          "text": [
            "x: [-6.9619465, 46.290176, 34.92832, 25.316195, -4.528152, 14.107606, -13.747303, -1.6416699, -7.2386203, -7.168315, 56.63177, 42.10709, -14.375357, 7.137518, -5.037628, -78.47387, -45.873314, 18.108131, 2.2550015, -63.39341, -58.55052, -63.9796, -20.427212, -60.640125, -55.546135, 71.74936, 59.72137, -66.85413, -22.481089, -92.1948, -94.61951, -89.02415, -85.44836, -99.28424, 32.553425, 34.635212, -48.047714, -46.587795, 42.514164, 28.30166, 84.355804, 78.02758, 85.395256, 86.00467, 53.642662, -39.848236, 66.557755, -57.675358, -52.178467, -42.12395, -41.804516, -40.026115, -63.299145, -12.28156, 45.23317, 39.99713, 55.330112, 48.990036, -22.098726, 22.20241, 24.994354, 18.222902, 17.313509, 22.385105, 31.34246, -17.922848, 7.2169623, 10.51999, 0.6595833, 3.5656996, -13.056306, 3.2371047, -81.746346, -81.890175, -78.7238, -30.39285, -67.38915, -88.01299, -61.65692, -29.020775, -38.16004, -43.44615, -32.597923, -31.756891, -26.793753, -20.476604, -18.601032, -29.874222, -75.14908, -13.271157, -18.192484, 51.08623, 67.747665, -25.838228, 45.15963, -22.150946, 50.156586, 15.720771, 62.21866, 63.307823, 82.59223, 55.731823, -11.381767, -0.29662716, -4.6273823, -10.898772, -19.685728, -11.540152, 37.022884, 47.963108, 45.67094, 36.299747, 78.83819, 54.584953, 17.929308, 26.24094, 26.05463, -74.31427, 9.943892, 68.81574, -19.371946, 8.107283, -5.149546, -5.906044, 7.7657743, 4.59245]\n",
            "y: [-20.856318, 40.690166, 40.808514, 33.56619, -36.098812, -54.27937, -45.190083, 38.26492, 40.029156, 54.14537, -4.4526486, -30.690239, 29.49554, -32.151165, 28.9699, -3.7203884, 33.472454, 9.701533, 2.464273, -12.553014, -16.862125, -28.191412, -24.130472, -3.5945058, -1.459032, 32.558132, -41.10732, -7.5540357, -49.179165, -27.422894, -35.463303, -31.780584, -8.084971, -25.273943, -59.903683, -24.095633, -16.587631, -21.532303, -36.443455, 68.21361, -35.941105, -6.850777, -22.168076, -11.519061, -9.186269, -40.80862, -6.905932, 50.186195, 49.892418, 36.278072, 18.389267, 13.803847, 52.87536, -22.824436, 59.23812, 49.108322, 51.758213, 52.552803, -13.750618, -12.581016, 23.847805, -29.112703, 32.829098, 42.134502, 34.90241, -42.490093, -53.602848, -43.470276, -44.99763, -35.89952, -34.489178, -57.79789, 36.02336, 26.302599, 31.82472, -8.618401, 35.323956, 21.457273, 5.258103, 79.53569, 76.2819, 78.606705, 92.55741, 86.73804, 19.27467, 27.224728, 34.521366, 23.795454, 1.7126508, 22.229963, -10.076378, 23.281721, 30.12914, -61.7322, 22.735022, -56.3741, -3.6648786, 58.025646, -13.590057, 4.4895406, -28.555443, -21.11717, 52.17942, 48.507866, 62.909767, 69.338806, 57.858253, 61.223576, -34.001728, -52.212994, -47.063816, -43.26647, -34.499832, -38.89482, 5.024018, 9.10573, 1.7848016, -16.994385, 16.556168, -11.622929, 10.270251, 1.8587133, 10.115315, 3.0459461, -6.394541, 14.561643]\n"
          ]
        },
        {
          "output_type": "execute_result",
          "data": {
            "text/plain": [
              "Text(0.5, 1.0, 'Rainbow colors visualized in language using t-SNE')"
            ]
          },
          "metadata": {},
          "execution_count": 70
        },
        {
          "output_type": "display_data",
          "data": {
            "text/plain": [
              "<Figure size 432x288 with 1 Axes>"
            ],
            "image/png": "[encoded data removed]"
          },
          "metadata": {
            "needs_background": "light"
          }
        }
      ]
    }
  ],
  "metadata": {
    "kernelspec": {
      "display_name": "openai",
      "language": "python",
      "name": "python3"
    },
    "language_info": {
      "codemirror_mode": {
        "name": "ipython",
        "version": 3
      },
      "file_extension": ".py",
      "mimetype": "text/x-python",
      "name": "python",
      "nbconvert_exporter": "python",
      "pygments_lexer": "ipython3",
      "version": "3.9.9 (main, Dec  7 2021, 18:04:56) \n[Clang 13.0.0 (clang-1300.0.29.3)]"
    },
    "orig_nbformat": 4,
    "vscode": {
      "interpreter": {
        "hash": "365536dcbde60510dc9073d6b991cd35db2d9bac356a11f5b64279a5e6708b97"
      }
    },
    "colab": {
      "provenance": [],
      "include_colab_link": true
    }
  },
  "nbformat": 4,
  "nbformat_minor": 0
}
